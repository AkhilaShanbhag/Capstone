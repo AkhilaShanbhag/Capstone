{
  "cells": [
    {
      "cell_type": "code",
      "execution_count": null,
      "metadata": {
        "colab": {
          "base_uri": "https://localhost:8080/"
        },
        "id": "lsD79Yuiby9T",
        "outputId": "909ab763-41f1-4656-df95-823f9d1041c8"
      },
      "outputs": [
        {
          "name": "stdout",
          "output_type": "stream",
          "text": [
            "Looking in indexes: https://pypi.org/simple, https://us-python.pkg.dev/colab-wheels/public/simple/\n",
            "Collecting pyngrok==4.1.1\n",
            "  Downloading pyngrok-4.1.1.tar.gz (18 kB)\n",
            "Requirement already satisfied: future in /usr/local/lib/python3.7/dist-packages (from pyngrok==4.1.1) (0.16.0)\n",
            "Requirement already satisfied: PyYAML in /usr/local/lib/python3.7/dist-packages (from pyngrok==4.1.1) (6.0)\n",
            "Building wheels for collected packages: pyngrok\n",
            "  Building wheel for pyngrok (setup.py) ... \u001b[?25l\u001b[?25hdone\n",
            "  Created wheel for pyngrok: filename=pyngrok-4.1.1-py3-none-any.whl size=15983 sha256=16ae9b01be9f2312b095a09562aa676e537cff42e6b1748f8a4a39ed4a757e03\n",
            "  Stored in directory: /root/.cache/pip/wheels/b1/d9/12/045a042fee3127dc40ba6f5df2798aa2df38c414bf533ca765\n",
            "Successfully built pyngrok\n",
            "Installing collected packages: pyngrok\n",
            "Successfully installed pyngrok-4.1.1\n",
            "Looking in indexes: https://pypi.org/simple, https://us-python.pkg.dev/colab-wheels/public/simple/\n",
            "Collecting flask_ngrok\n",
            "  Downloading flask_ngrok-0.0.25-py3-none-any.whl (3.1 kB)\n",
            "Requirement already satisfied: Flask>=0.8 in /usr/local/lib/python3.7/dist-packages (from flask_ngrok) (1.1.4)\n",
            "Requirement already satisfied: requests in /usr/local/lib/python3.7/dist-packages (from flask_ngrok) (2.23.0)\n",
            "Requirement already satisfied: click<8.0,>=5.1 in /usr/local/lib/python3.7/dist-packages (from Flask>=0.8->flask_ngrok) (7.1.2)\n",
            "Requirement already satisfied: itsdangerous<2.0,>=0.24 in /usr/local/lib/python3.7/dist-packages (from Flask>=0.8->flask_ngrok) (1.1.0)\n",
            "Requirement already satisfied: Werkzeug<2.0,>=0.15 in /usr/local/lib/python3.7/dist-packages (from Flask>=0.8->flask_ngrok) (1.0.1)\n",
            "Requirement already satisfied: Jinja2<3.0,>=2.10.1 in /usr/local/lib/python3.7/dist-packages (from Flask>=0.8->flask_ngrok) (2.11.3)\n",
            "Requirement already satisfied: MarkupSafe>=0.23 in /usr/local/lib/python3.7/dist-packages (from Jinja2<3.0,>=2.10.1->Flask>=0.8->flask_ngrok) (2.0.1)\n",
            "Requirement already satisfied: certifi>=2017.4.17 in /usr/local/lib/python3.7/dist-packages (from requests->flask_ngrok) (2022.9.24)\n",
            "Requirement already satisfied: chardet<4,>=3.0.2 in /usr/local/lib/python3.7/dist-packages (from requests->flask_ngrok) (3.0.4)\n",
            "Requirement already satisfied: urllib3!=1.25.0,!=1.25.1,<1.26,>=1.21.1 in /usr/local/lib/python3.7/dist-packages (from requests->flask_ngrok) (1.24.3)\n",
            "Requirement already satisfied: idna<3,>=2.5 in /usr/local/lib/python3.7/dist-packages (from requests->flask_ngrok) (2.10)\n",
            "Installing collected packages: flask-ngrok\n",
            "Successfully installed flask-ngrok-0.0.25\n",
            "Authtoken saved to configuration file: /root/.ngrok2/ngrok.yml\n",
            "Looking in indexes: https://pypi.org/simple, https://us-python.pkg.dev/colab-wheels/public/simple/\n",
            "Collecting flask-cors\n",
            "  Downloading Flask_Cors-3.0.10-py2.py3-none-any.whl (14 kB)\n",
            "Requirement already satisfied: Six in /usr/local/lib/python3.7/dist-packages (from flask-cors) (1.15.0)\n",
            "Requirement already satisfied: Flask>=0.9 in /usr/local/lib/python3.7/dist-packages (from flask-cors) (1.1.4)\n",
            "Requirement already satisfied: itsdangerous<2.0,>=0.24 in /usr/local/lib/python3.7/dist-packages (from Flask>=0.9->flask-cors) (1.1.0)\n",
            "Requirement already satisfied: Werkzeug<2.0,>=0.15 in /usr/local/lib/python3.7/dist-packages (from Flask>=0.9->flask-cors) (1.0.1)\n",
            "Requirement already satisfied: click<8.0,>=5.1 in /usr/local/lib/python3.7/dist-packages (from Flask>=0.9->flask-cors) (7.1.2)\n",
            "Requirement already satisfied: Jinja2<3.0,>=2.10.1 in /usr/local/lib/python3.7/dist-packages (from Flask>=0.9->flask-cors) (2.11.3)\n",
            "Requirement already satisfied: MarkupSafe>=0.23 in /usr/local/lib/python3.7/dist-packages (from Jinja2<3.0,>=2.10.1->Flask>=0.9->flask-cors) (2.0.1)\n",
            "Installing collected packages: flask-cors\n",
            "Successfully installed flask-cors-3.0.10\n"
          ]
        }
      ],
      "source": [
        "!pip install pyngrok==4.1.1\n",
        "!pip install flask_ngrok\n",
        "!ngrok authtoken '2G9vdCAb1Cbq9ARxqciS6hyJBZC_oNZNGBNeKkEnCBpWDqD'\n",
        "!pip install flask-cors\n"
      ]
    },
    {
      "cell_type": "code",
      "execution_count": null,
      "metadata": {
        "colab": {
          "background_save": true,
          "base_uri": "https://localhost:8080/"
        },
        "id": "4LfxeHtvb0Mu",
        "outputId": "2c84f6c2-c67b-4b4c-8088-415e1168cde5"
      },
      "outputs": [
        {
          "name": "stdout",
          "output_type": "stream",
          "text": [
            "Mounted at /content/gdrive\n",
            " * Serving Flask app \"__main__\" (lazy loading)\n",
            " * Environment: production\n",
            "\u001b[31m   WARNING: This is a development server. Do not use it in a production deployment.\u001b[0m\n",
            "\u001b[2m   Use a production WSGI server instead.\u001b[0m\n",
            " * Debug mode: off\n"
          ]
        },
        {
          "name": "stderr",
          "output_type": "stream",
          "text": [
            "INFO:werkzeug: * Running on http://127.0.0.1:5000/ (Press CTRL+C to quit)\n"
          ]
        },
        {
          "name": "stdout",
          "output_type": "stream",
          "text": [
            " * Running on http://0ee2-34-72-92-210.ngrok.io\n",
            " * Traffic stats available on http://127.0.0.1:4040\n"
          ]
        },
        {
          "name": "stderr",
          "output_type": "stream",
          "text": [
            "INFO:werkzeug:127.0.0.1 - - [20/Oct/2022 08:00:48] \"\u001b[37mOPTIONS /predict HTTP/1.1\u001b[0m\" 200 -\n"
          ]
        },
        {
          "name": "stdout",
          "output_type": "stream",
          "text": [
            "1/1 [==============================] - 4s 4s/step\n"
          ]
        },
        {
          "name": "stderr",
          "output_type": "stream",
          "text": [
            "INFO:werkzeug:127.0.0.1 - - [20/Oct/2022 08:01:06] \"\u001b[37mPOST /predict HTTP/1.1\u001b[0m\" 200 -\n"
          ]
        }
      ],
      "source": [
        "from flask import Flask, request, jsonify\n",
        "from flask_ngrok import run_with_ngrok\n",
        "from flask_cors import CORS\n",
        "\n",
        "import os\n",
        "import cv2\n",
        "import numpy as np\n",
        "# load and evaluate a saved model\n",
        "from numpy import loadtxt\n",
        "from tensorflow.keras.models import load_model\n",
        "import base64\n",
        "from PIL import Image\n",
        "from io import BytesIO\n",
        "\n",
        "from google.colab import drive\n",
        "\n",
        "drive.mount('/content/gdrive', force_remount=True)\n",
        "\n",
        "DRIVE_LOCATION = \"/content/gdrive/MyDrive\"\n",
        "DATADIR = f\"{DRIVE_LOCATION}/testing\"\n",
        "\n",
        "app = Flask(__name__)\n",
        "CORS(app)\n",
        "run_with_ngrok(app)\n",
        "\n",
        "\n",
        "def upload_image(request_data):\n",
        "  image_string = request_data['image'].split(\",\")[-1]\n",
        "  patient_name = request_data['name']\n",
        "  patient_dir = f\"{DATADIR}/{patient_name}\"\n",
        "\n",
        "  if not os.path.exists(patient_dir):\n",
        "    os.makedirs(patient_dir)\n",
        "\n",
        "  im = Image.open(BytesIO(base64.b64decode(image_string))).convert(\"RGB\")\n",
        "  im.save(f\"{DATADIR}/{patient_name}/{patient_name}.jpg\", 'JPEG')\n",
        "  \n",
        "@app.route(\"/predict\", methods=['GET', 'POST'])\n",
        "def predict():\n",
        "    request_data = request.get_json()\n",
        "    patient_name = request_data['name']\n",
        "    patient_dir = f\"{DATADIR}/{patient_name}\"\n",
        "    issue_type = request_data['issue'].lower()\n",
        "    upload_image(request_data)\n",
        "\n",
        "    hair_class_dict = {'AcneKeloidalis': 0,\n",
        "                  'AlopeciaAreata': 1,\n",
        "                  'Dandruff': 2,\n",
        "                  'Healthyscalp': 3}\n",
        "    hair_medicines = [\"Cyclomethicone NF-5, UTMF Ceramide III, Dermaxyl, Polydimethyl Siloxane, Silicone Dioxide, Elastomer – 10, Antron(220), Vitamin C. – ( HEXILAK Ultra) – (Flattens, Lightens and Softens Scars).\",\n",
        "                      \"Propylene Glycol, Aqua, Water (and) Vitis Vinifera Meristem Fruit Cell Culture (and) Hydrolysed Eruca Sativa Leaf (and) Hydrolysed Walnut Extract, Pyrus Malus Extract, Phenoxyethanol (and) Ethylhexylglycerin, Niacinamide, Camellia Sinensis Leaf Extract (and) Propylene Glycol (and) Water (and) Sorbitol (and) Citric Acid (and) Sodium Hydroxide (and) Ascorbic Acid, Nigella Sativa Extract, Eclipta Alba Extract, Panthenol, Biotin, Disodium EDTA. (PROANAGEN SOLUTION) (WOMEN) + Follihair Tablets.\",\n",
        "                      \"Selenium Sulfide 2.5% w/v , Buffered emulsion base q.s (Selsun lotion)\",\"NA\"]\n",
        "    \n",
        "    direction_to_use_hair = [\"Apply the cream in the affected area outer to inner area. Wash and dry the affected place before applying the cream.\",\n",
        "                        \"Take 1 ml of the solution and apply it in the affected area massage gently for a minute or two.\",\n",
        "                        \"Wash hair with mild soap. Rinse. Massage Selsun onto scalp to form lather. Leave on scalp for two to three minutes. Rinse. Repeat the procedure and rinse thoroughly. Use twice weekly\",\n",
        "                        \"NA\"]\n",
        "\n",
        "    skin_class_dict = {'Corn_callus': 0,\n",
        "                      'Tiniea ': 1,\n",
        "                      'Warts': 2,\n",
        "                      'Keloid': 3,\n",
        "                      'Pityriasisversicolor': 4,\n",
        "                      'NO ISSUES FOUND':5}\n",
        "    skin_medicines = [\"Salicylic acid 17% w/w (Without infection)Heel pads and insoles Salicylic acid 17% w/w + Amoxycillin and Potassium Clavulanate (With Infection)\",\n",
        "                      \"Luliconazole IP 1.0% w/w, Benzyl Alcohol IP 1.0% w/w (Lulitec Cream) Chlorohydrate 20% w/w, Aqua, Aluminum Chlorohydrate, Propylene Glycol, PPG-15 Stearyl Ether, Cetearyl Alcohol, Glyceryl Stearate (and) PEG-100 Stearate, Urea, Laureth-23, Dimethicone, SodiumLauryl Sulfate, DMDM Hydantoin, Methylchloroisothiazolinone (and) Methylisothiazolinone, Disodium EDTA, Perfume. (Seba Med)\",\n",
        "                      \"Salicylic Acid 16.7%W/V Lactic Acid 16.7%W/V (DeWarts Cream) Most warts are harmless and clear up without treatment.The length of time it takes a wart to disappear will vary from person to person. It may take up to 2 years for the viral infection to leave your system and for the wart to disappear.You might decide to treat your wart if it is painful, or in an area that is causing discomfort or embarrassment.\",\n",
        "                      \"Hydroquinone U.S.P.2% w/w, Tretinoin B.P. 0.025% w/w, Mometasone Furoate I.P.0.10% w/w In a cream base q.s. (No Scars)Octinoxate, Niacinamide, Glycolic Acid, Kojic Acid Dipalmitate, Arbutin, Mulberry Extract Tocopheryl Acetate, Allantoin, Licorice Extract & Tetrahydrocurcumin Gel ( Kojivit Ultra)\",\n",
        "                      \"Cindamycin and Benzoyl Peroxide Gel (PEROCLIN 2.5%) Azelaic Acid Cream 20% w/w (Azobril Forte)\",\n",
        "                      \"NA\"]\n",
        "\n",
        "    direction_to_use_skin = [\"Wash the affected area and dry thoroughly apply one drop at a time with applicator, to sufficiently cover each corn/callus; let dry use cushion with hole centered over corn or callus to relieve pressure Repeat this procedure once or twice daily as needed for up to 14 days (until corn/callus is removed)\",\n",
        "                            \"Wash the affected area and dry thoroughly apply a little Lulitec Cream from outer ring to inner center let this rest for 20 Mins, apply Seba Med on top the previously applied layer.\",\n",
        "                            \"Wash and clean the affected area gently apply the cream on the affected area, Use 2 to 3 times a day\",\n",
        "                            \"Wash and clean the affected area gently apply the cream on the affected area, Use 2 to 3 times a day\",\n",
        "                            \"Wash the affected area and dry thoroughly apply a little PEROCLIN 2.5% Cream from outer ring to inner center let this rest for 20 Mins same for Azobril Forte. Apply very Gently on the affected area\",\n",
        "                            \"NA\"]\n",
        "\n",
        "   \n",
        "    class_names = {}\n",
        "    class_values = []\n",
        "    medicines = []\n",
        "    direction_to_use = []\n",
        "    model_name = \"\"\n",
        "    doctor_details = {\n",
        "        \"imgUrl\": \"https://cdn.medimetry.com/production/wp-content/uploads/2017/01/22221806/Vignesh.jpg\",\n",
        "        \"name\": \"Dr. Vignesh Kumar\",\n",
        "        \"qualification\": \"MBBS, MD DVL\"\n",
        "    }\n",
        "\n",
        "    if issue_type == \"hair\":\n",
        "      class_names = list(hair_class_dict.keys())\n",
        "      class_values = list(hair_class_dict.values())\n",
        "      medicines = hair_medicines\n",
        "      direction_to_use = direction_to_use_hair\n",
        "      model_name = \"hair_densenet_model2.h5\"\n",
        "    else:\n",
        "      class_names = list(skin_class_dict.keys())\n",
        "      class_values = list(skin_class_dict.values())\n",
        "      medicines = skin_medicines\n",
        "      direction_to_use = direction_to_use_skin\n",
        "      model_name = \"skin_densenet_model2.h5\"\n",
        "    \n",
        "  \n",
        "    for img in os.listdir(patient_dir):\n",
        "            img_array = cv2.imread(os.path.join(patient_dir,img))\n",
        "            img = (np.expand_dims(img_array,0))\n",
        "            new_array = cv2.resize(img_array,(100,100))\n",
        "            new_array = new_array/255\n",
        "            ghh = new_array.reshape(-1,100,100, 3)\n",
        "            pre_trained_model=load_model(f\"{DRIVE_LOCATION}/Capstone/{model_name}\")\n",
        "            y_pred=pre_trained_model.predict(ghh)\n",
        "            A = np.argmax(y_pred, axis=-1)\n",
        "            response = {}\n",
        "            for i in class_values:\n",
        "              if class_values[i]==A[0]:\n",
        "                response[\"predictedDisease\"] = [class_names[i]]\n",
        "                response[\"causes\"] = []\n",
        "                response[\"medicine\"] = [medicines[i]]\n",
        "                response[\"direction_to_use\"] = [direction_to_use[i]]\n",
        "                response[\"doctor\"] = doctor_details\n",
        "    \n",
        "    return response\n",
        "    \n",
        "app.run()\n"
      ]
    },
    {
      "cell_type": "code",
      "execution_count": null,
      "metadata": {
        "id": "uDi1V6IXb4LK"
      },
      "outputs": [],
      "source": []
    }
  ],
  "metadata": {
    "colab": {
      "provenance": []
    },
    "kernelspec": {
      "display_name": "Python 3",
      "name": "python3"
    },
    "language_info": {
      "name": "python"
    }
  },
  "nbformat": 4,
  "nbformat_minor": 0
}